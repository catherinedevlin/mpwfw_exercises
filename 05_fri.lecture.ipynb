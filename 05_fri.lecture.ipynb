{
 "metadata": {
  "name": ""
 },
 "nbformat": 3,
 "nbformat_minor": 0,
 "worksheets": [
  {
   "cells": [
    {
     "cell_type": "heading",
     "level": 1,
     "metadata": {},
     "source": [
      "Indentation"
     ]
    },
    {
     "cell_type": "markdown",
     "metadata": {},
     "source": [
      "Imagine a recipe that reads:\n",
      "\n",
      "\"Bake for 28 minutes.  Insert a toothpick and examine it.  If the toothpick does not come out clean, bake another 5 minutes.  Place on cooling rack and wait 30 minutes.  Frost.\""
     ]
    },
    {
     "cell_type": "markdown",
     "metadata": {},
     "source": [
      "The Python-like version:\n",
      "\n",
      "    Bake for 28 minutes.  \n",
      "    Insert a toothpick and examine it.  \n",
      "    If the toothpick does not come out clean:\n",
      "        bake another 5 minutes.  \n",
      "    Place on cooling rack.\n",
      "    Wait 30 minutes.  \n",
      "    Frost.        "
     ]
    },
    {
     "cell_type": "markdown",
     "metadata": {},
     "source": [
      "What if we change the indentation?\n",
      "\n",
      "    Bake for 28 minutes.  \n",
      "    Insert a toothpick and examine it.  \n",
      "    If the toothpick does not come out clean:\n",
      "        bake another 5 minutes.  \n",
      "        Place on cooling rack.\n",
      "        Wait 30 minutes.  \n",
      "    Frost.        "
     ]
    },
    {
     "cell_type": "heading",
     "level": 2,
     "metadata": {},
     "source": [
      "For function definitions"
     ]
    },
    {
     "cell_type": "markdown",
     "metadata": {},
     "source": [
      "\"To mince garlic, cut the tips from each clove.  Use the flat of the knife blade to smash the clove.  Cut into pieces as fine as possible.  Peel and dice one large sweet potato.  Mince three cloves of garlic.  Heat 3 tablespoons of oil on HIGH.  Add the garlic and cook 2 minutes.  Add the sweet potato...\""
     ]
    },
    {
     "cell_type": "markdown",
     "metadata": {},
     "source": [
      "In pseudo-Python:\n",
      "    \n",
      "    To mince garlic:\n",
      "        Cut the tips from each clove.  \n",
      "        Use the flat of the knife blade to smash the clove.  \n",
      "        Cut into pieces as fine as possible.  \n",
      "    Peel and dice one large sweet potato.  \n",
      "    Mince 3 cloves of garlic.\n",
      "    Heat 3 tablespoons of oil on HIGH.  \n",
      "    Add the garlic and fry 2 minutes.  \n",
      "    Add the sweet potato...\""
     ]
    },
    {
     "cell_type": "markdown",
     "metadata": {},
     "source": [
      "What if we do this?\n",
      "\n",
      "    To mince garlic:\n",
      "        Cut the tips from each clove.  \n",
      "        Use the flat of the knife blade to smash the clove.  \n",
      "        Cut into pieces as fine as possible.  \n",
      "        Peel and dice one large sweet potato.      \n",
      "    Mince 3 cloves of garlic.\n",
      "    Heat 3 tablespoons of oil on HIGH.  \n",
      "    Add the garlic and fry 2 minutes.  \n",
      "    Add the sweet potato...\""
     ]
    },
    {
     "cell_type": "code",
     "collapsed": false,
     "input": [],
     "language": "python",
     "metadata": {},
     "outputs": []
    }
   ],
   "metadata": {}
  }
 ]
}