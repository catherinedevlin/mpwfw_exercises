{
 "metadata": {
  "name": "business_demo"
 },
 "nbformat": 3,
 "nbformat_minor": 0,
 "worksheets": [
  {
   "cells": [
    {
     "cell_type": "markdown",
     "metadata": {},
     "source": [
      "Fudging a spreadsheet\n",
      "====================="
     ]
    },
    {
     "cell_type": "markdown",
     "metadata": {},
     "source": [
      "There are a bunch of ways to get at spreadsheet data from Python, but the simplest way is usually to export a version of the spreadsheet in *csv* (comma-separated values) format.  CSV is really easy to work with from Python!"
     ]
    },
    {
     "cell_type": "code",
     "collapsed": false,
     "input": [
      "with open('sales.csv') as infile:\n",
      "    content = infile.read()"
     ],
     "language": "python",
     "metadata": {},
     "outputs": []
    },
    {
     "cell_type": "code",
     "collapsed": false,
     "input": [
      "content"
     ],
     "language": "python",
     "metadata": {},
     "outputs": []
    },
    {
     "cell_type": "code",
     "collapsed": false,
     "input": [
      "print(content)"
     ],
     "language": "python",
     "metadata": {},
     "outputs": []
    },
    {
     "cell_type": "markdown",
     "metadata": {},
     "source": [
      "Python's Standard Library has a special [csv module](http://docs.python.org/2/library/csv.html) that makes it easy to change that data into Python lists."
     ]
    },
    {
     "cell_type": "code",
     "collapsed": false,
     "input": [
      "import csv"
     ],
     "language": "python",
     "metadata": {},
     "outputs": []
    },
    {
     "cell_type": "code",
     "collapsed": false,
     "input": [
      "with open('sales.csv') as infile:\n",
      "    data = []\n",
      "    reader = csv.reader(infile)\n",
      "    for row in reader:\n",
      "        data.append(row)\n",
      "print(data)"
     ],
     "language": "python",
     "metadata": {},
     "outputs": []
    },
    {
     "cell_type": "markdown",
     "metadata": {},
     "source": [
      "So far so good, but those quote marks around the numbers mean that right now, Python thinks they're strings, not numbers.  We want to convert them, but carefully; if we try to convert a word like 'Michigan' to a number, we'll get an error:"
     ]
    },
    {
     "cell_type": "code",
     "collapsed": false,
     "input": [
      "float('Michigan')"
     ],
     "language": "python",
     "metadata": {},
     "outputs": []
    },
    {
     "cell_type": "markdown",
     "metadata": {},
     "source": [
      "We'll use a brand-new concept called *exception handling*.  We *try* to change each piece of data into a number, *except* if that causes an error, we'll tell Python to leave it alone (instead of stopping the program with an error message, the way it normally would)."
     ]
    },
    {
     "cell_type": "code",
     "collapsed": false,
     "input": [
      "with open('sales.csv') as infile:\n",
      "    data = []\n",
      "    reader = csv.reader(infile)\n",
      "    for row in reader:\n",
      "        newrow = []\n",
      "        for item in row:\n",
      "            try:\n",
      "                newrow.append(float(item))\n",
      "            except ValueError:\n",
      "                newrow.append(item)\n",
      "        data.append(newrow)\n",
      "print(data)"
     ],
     "language": "python",
     "metadata": {},
     "outputs": []
    },
    {
     "cell_type": "markdown",
     "metadata": {},
     "source": [
      "OK, now some new instructions arrive from the head office:\n",
      "\n",
      "> We need to make our sales numbers look better.\n",
      "> Quote them in Canadian dollars.\n",
      "\n",
      "This is a workshop on programming, not ethics, so we'll comply.  We'll check [Bank of Canada](http://www.bankofcanada.ca/rates/exchange/) and use a number of $0.98 per Canadian dollar."
     ]
    },
    {
     "cell_type": "code",
     "collapsed": false,
     "input": [
      "usd_to_cad = 0.98\n",
      "fudgey_data = []\n",
      "for row in data:\n",
      "    canadian_row = []\n",
      "    for val in row:\n",
      "        try:\n",
      "            canadian_val = round(val / usd_to_cad)\n",
      "            canadian_row.append(canadian_val)\n",
      "        except TypeError:\n",
      "            canadian_row.append(val)\n",
      "    fudgey_data.append(canadian_row)\n",
      "print(data)\n",
      "print(fudgey_data)\n",
      "            "
     ],
     "language": "python",
     "metadata": {},
     "outputs": []
    },
    {
     "cell_type": "markdown",
     "metadata": {},
     "source": [
      "Now we have `fudgey_data`, but we want to get it back out into a spreadsheet (well, into a CSV, and we'll let the spreadsheet program handle the CSV-to-spreadsheet conversion)."
     ]
    },
    {
     "cell_type": "code",
     "collapsed": false,
     "input": [
      "with open('fudgey.csv', 'w') as outfile:  # the 'w' stands for 'write'\n",
      "    writer = csv.writer(outfile)\n",
      "    for canadian_row in fudgey_data:\n",
      "        writer.writerow(canadian_row)\n",
      "    "
     ],
     "language": "python",
     "metadata": {},
     "outputs": []
    },
    {
     "cell_type": "markdown",
     "metadata": {},
     "source": [
      "Have a look at fudgey.csv!  You can open fudgey.csv from a spreadsheet program, and it will know how to convert it into spreadsheet format."
     ]
    },
    {
     "cell_type": "markdown",
     "metadata": {},
     "source": [
      "Incidentally, if you can get permission to work in a different spreadsheet program altogether (but one that's compatible with MS Excel), check out [Resolver One](http://www.resolversystems.com/products/resolver-one/) - it's a spreadsheet that lets you use Python directly in its cells!  Really interesting project."
     ]
    },
    {
     "cell_type": "markdown",
     "metadata": {},
     "source": [
      "Scraping a webpage\n",
      "=================="
     ]
    },
    {
     "cell_type": "markdown",
     "metadata": {},
     "source": [
      "The main office writes again:\n",
      "    \n",
      "> Our currency conversions need to be up-to-date.  Redo the numbers daily with the current exchange rate.\n",
      "\n",
      "There are a bunch of ways in Python to get data off a webpage.  Probably the easiest way requires two extra packages: [*requests*](http://docs.python-requests.org/) and [*BeautifulSoup*](http://www.crummy.com/software/BeautifulSoup/).  Put those packages on your computer:\n",
      "\n",
      "    pip install requests\n",
      "    pip install beautifulsoup\n"
     ]
    },
    {
     "cell_type": "code",
     "collapsed": false,
     "input": [
      "import requests\n",
      "page = requests.get('http://www.bankofcanada.ca/rates/exchange/')\n",
      "print(page.text[:2000])"
     ],
     "language": "python",
     "metadata": {},
     "outputs": []
    },
    {
     "cell_type": "markdown",
     "metadata": {},
     "source": [
      "Ewww!  Good thing we only printed the first 2000 characters!  But when we eyeball the actual page in our browser, we know that we're looking for \"1 CAD noon\", so we use View Source in our browser and then search that.  We find it in\n",
      "\n",
      "    <tr><th>1 CAD noon</th><td>0.9846 USD</td><td>0.9836 USD</td></tr>\n",
      "\n",
      "Now we know that our program just needs to find the HTML *element* whose *text* is \"1 CAD noon\", then take the text of the *next* HTML element after that.  The BeautifulSoup package makes that easy.\n"
     ]
    },
    {
     "cell_type": "code",
     "collapsed": false,
     "input": [
      "import BeautifulSoup\n",
      "soup = BeautifulSoup.BeautifulSoup(page.text)\n",
      "rate_element = soup.find('th', text=\"1 CAD noon\").next.text\n",
      "rate_element"
     ],
     "language": "python",
     "metadata": {},
     "outputs": []
    },
    {
     "cell_type": "markdown",
     "metadata": {},
     "source": [
      "Now we just need to extract the number from that string... `.split()` will chop it into a list of separate words; we want the first word."
     ]
    },
    {
     "cell_type": "code",
     "collapsed": false,
     "input": [
      "rate = rate_element.split()[0]\n",
      "rate"
     ],
     "language": "python",
     "metadata": {},
     "outputs": []
    },
    {
     "cell_type": "code",
     "collapsed": false,
     "input": [
      "usd_to_cad = float(rate)\n",
      "usd_to_cad"
     ],
     "language": "python",
     "metadata": {},
     "outputs": []
    },
    {
     "cell_type": "markdown",
     "metadata": {},
     "source": [
      "Let's take the code we wrote up above and make a function of it, so it's easy to call."
     ]
    },
    {
     "cell_type": "code",
     "collapsed": false,
     "input": [
      "def convert_currency(data, usd_to_foreign):\n",
      "    foreign_data = []\n",
      "    for row in data:\n",
      "        foreign_row = []\n",
      "        for val in row:\n",
      "            try:\n",
      "                foreign_val = round(val / usd_to_foreign)\n",
      "                foreign_row.append(foreign_val)\n",
      "            except TypeError:\n",
      "                foreign_row.append(val)\n",
      "        foreign_data.append(foreign_row)\n",
      "    return foreign_data\n",
      "\n",
      "print(data)\n",
      "print(convert_currency(data, usd_to_cad))\n",
      "            "
     ],
     "language": "python",
     "metadata": {},
     "outputs": [
      {
       "output_type": "stream",
       "stream": "stdout",
       "text": [
        "[['State', 'Jan', 'Feb', 'Mar'], ['Ohio', 23432.0, 52121.0, 48650.0], ['Michigan', 65432.0, 34515.0, 45646.0], ['Indiana', 12321.0, 1231.0, 18547.0], ['Kentucky', 54334.0, 7548.0, 38411.0], ['Illinois', 88923.0, 45977.0, 108547.0]]\n",
        "[['State', 'Jan', 'Feb', 'Mar'], ['Ohio', 23798.0, 52936.0, 49411.0], ['Michigan', 66455.0, 35055.0, 46360.0], ['Indiana', 12514.0, 1250.0, 18837.0], ['Kentucky', 55184.0, 7666.0, 39012.0], ['Illinois', 90314.0, 46696.0, 110245.0]]\n"
       ]
      }
     ],
     "prompt_number": 66
    },
    {
     "cell_type": "code",
     "collapsed": false,
     "input": [],
     "language": "python",
     "metadata": {},
     "outputs": []
    }
   ],
   "metadata": {}
  }
 ]
}