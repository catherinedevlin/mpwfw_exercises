{
 "metadata": {
  "name": "business_demo"
 },
 "nbformat": 3,
 "nbformat_minor": 0,
 "worksheets": [
  {
   "cells": [
    {
     "cell_type": "markdown",
     "metadata": {},
     "source": [
      "Fudging a spreadsheet\n",
      "====================="
     ]
    },
    {
     "cell_type": "markdown",
     "metadata": {},
     "source": [
      "There are a bunch of ways to get at spreadsheet data from Python, but the simplest way is usually to export a version of the spreadsheet in *csv* (comma-separated values) format.  CSV is really easy to work with from Python!"
     ]
    },
    {
     "cell_type": "code",
     "collapsed": false,
     "input": [
      "with open('sales.csv') as infile:\n",
      "    content = infile.read()"
     ],
     "language": "python",
     "metadata": {},
     "outputs": [],
     "prompt_number": 36
    },
    {
     "cell_type": "code",
     "collapsed": false,
     "input": [
      "content"
     ],
     "language": "python",
     "metadata": {},
     "outputs": [
      {
       "output_type": "pyout",
       "prompt_number": 7,
       "text": [
        "'State,Jan,Feb,Mar\\nOhio,23432,52121,48650\\nMichigan,65432,34515,45646\\nIndiana,12321,1231,18547\\nKentucky,54334,7548,38411\\nIllinois,88923,45977,108547\\n'"
       ]
      }
     ],
     "prompt_number": 7
    },
    {
     "cell_type": "code",
     "collapsed": false,
     "input": [
      "print(content)"
     ],
     "language": "python",
     "metadata": {},
     "outputs": [
      {
       "output_type": "stream",
       "stream": "stdout",
       "text": [
        "State,Jan,Feb,Mar\n",
        "Ohio,23432,52121,48650\n",
        "Michigan,65432,34515,45646\n",
        "Indiana,12321,1231,18547\n",
        "Kentucky,54334,7548,38411\n",
        "Illinois,88923,45977,108547\n",
        "\n"
       ]
      }
     ],
     "prompt_number": 8
    },
    {
     "cell_type": "markdown",
     "metadata": {},
     "source": [
      "Python's Standard Library has a special [csv module](http://docs.python.org/2/library/csv.html) that makes it easy to change that data into Python lists."
     ]
    },
    {
     "cell_type": "code",
     "collapsed": false,
     "input": [
      "import csv"
     ],
     "language": "python",
     "metadata": {},
     "outputs": [],
     "prompt_number": 9
    },
    {
     "cell_type": "code",
     "collapsed": false,
     "input": [
      "with open('sales.csv') as infile:\n",
      "    data = []\n",
      "    reader = csv.reader(infile)\n",
      "    for row in reader:\n",
      "        data.append(row)\n",
      "print(data)"
     ],
     "language": "python",
     "metadata": {},
     "outputs": [
      {
       "output_type": "stream",
       "stream": "stdout",
       "text": [
        "[['State', 'Jan', 'Feb', 'Mar'], ['Ohio', '23432', '52121', '48650'], ['Michigan', '65432', '34515', '45646'], ['Indiana', '12321', '1231', '18547'], ['Kentucky', '54334', '7548', '38411'], ['Illinois', '88923', '45977', '108547']]\n"
       ]
      }
     ],
     "prompt_number": 15
    },
    {
     "cell_type": "markdown",
     "metadata": {},
     "source": [
      "So far so good, but those quote marks around the numbers mean that right now, Python thinks they're strings, not numbers.  We want to convert them, but carefully; if we try to convert a word like 'Michigan' to a number, we'll get an error:"
     ]
    },
    {
     "cell_type": "code",
     "collapsed": false,
     "input": [
      "float('Michigan')"
     ],
     "language": "python",
     "metadata": {},
     "outputs": [
      {
       "ename": "ValueError",
       "evalue": "could not convert string to float: Michigan",
       "output_type": "pyerr",
       "traceback": [
        "\u001b[1;31m---------------------------------------------------------------------------\u001b[0m\n\u001b[1;31mValueError\u001b[0m                                Traceback (most recent call last)",
        "\u001b[1;32m<ipython-input-17-c862864995ff>\u001b[0m in \u001b[0;36m<module>\u001b[1;34m()\u001b[0m\n\u001b[1;32m----> 1\u001b[1;33m \u001b[0mfloat\u001b[0m\u001b[1;33m(\u001b[0m\u001b[1;34m'Michigan'\u001b[0m\u001b[1;33m)\u001b[0m\u001b[1;33m\u001b[0m\u001b[0m\n\u001b[0m",
        "\u001b[1;31mValueError\u001b[0m: could not convert string to float: Michigan"
       ]
      }
     ],
     "prompt_number": 17
    },
    {
     "cell_type": "markdown",
     "metadata": {},
     "source": [
      "We'll use a brand-new concept called *exception handling*.  We *try* to change each piece of data into a number, *except* if that causes an error, we'll tell Python to leave it alone (instead of stopping the program with an error message, the way it normally would)."
     ]
    },
    {
     "cell_type": "code",
     "collapsed": false,
     "input": [
      "with open('sales.csv') as infile:\n",
      "    data = []\n",
      "    reader = csv.reader(infile)\n",
      "    for row in reader:\n",
      "        newrow = []\n",
      "        for item in row:\n",
      "            try:\n",
      "                newrow.append(float(item))\n",
      "            except ValueError:\n",
      "                newrow.append(item)\n",
      "        data.append(newrow)\n",
      "print(data)"
     ],
     "language": "python",
     "metadata": {},
     "outputs": [
      {
       "output_type": "stream",
       "stream": "stdout",
       "text": [
        "[['State', 'Jan', 'Feb', 'Mar'], ['Ohio', 23432.0, 52121.0, 48650.0], ['Michigan', 65432.0, 34515.0, 45646.0], ['Indiana', 12321.0, 1231.0, 18547.0], ['Kentucky', 54334.0, 7548.0, 38411.0], ['Illinois', 88923.0, 45977.0, 108547.0]]\n"
       ]
      }
     ],
     "prompt_number": 19
    },
    {
     "cell_type": "markdown",
     "metadata": {},
     "source": [
      "OK, now some new instructions arrive from the head office:\n",
      "\n",
      "> We need to make our sales numbers look better.\n",
      "> Quote them in Canadian dollars.\n",
      "\n",
      "This is a workshop on programming, not ethics, so we'll comply.  We'll check [Bank of Canada](http://www.bankofcanada.ca/rates/exchange/) and use a number of $0.98 per Canadian dollar."
     ]
    },
    {
     "cell_type": "code",
     "collapsed": false,
     "input": [
      "usd_to_cad = 0.98\n",
      "fudgey_data = []\n",
      "for row in data:\n",
      "    canadian_row = []\n",
      "    for val in row:\n",
      "        try:\n",
      "            canadian_val = round(val / usd_to_cad)\n",
      "            canadian_row.append(canadian_val)\n",
      "        except TypeError:\n",
      "            canadian_row.append(val)\n",
      "    fudgey_data.append(canadian_row)\n",
      "print(data)\n",
      "print(fudgey_data)\n",
      "            "
     ],
     "language": "python",
     "metadata": {},
     "outputs": [
      {
       "output_type": "stream",
       "stream": "stdout",
       "text": [
        "[['State', 'Jan', 'Feb', 'Mar'], ['Ohio', 23432.0, 52121.0, 48650.0], ['Michigan', 65432.0, 34515.0, 45646.0], ['Indiana', 12321.0, 1231.0, 18547.0], ['Kentucky', 54334.0, 7548.0, 38411.0], ['Illinois', 88923.0, 45977.0, 108547.0]]\n",
        "[['State', 'Jan', 'Feb', 'Mar'], ['Ohio', 23910.0, 53185.0, 49643.0], ['Michigan', 66767.0, 35219.0, 46578.0], ['Indiana', 12572.0, 1256.0, 18926.0], ['Kentucky', 55443.0, 7702.0, 39195.0], ['Illinois', 90738.0, 46915.0, 110762.0]]\n"
       ]
      }
     ],
     "prompt_number": 29
    },
    {
     "cell_type": "markdown",
     "metadata": {},
     "source": [
      "Now we have `fudgey_data`, but we want to get it back out into a spreadsheet (well, into a CSV, and we'll let the spreadsheet program handle the CSV-to-spreadsheet conversion)."
     ]
    },
    {
     "cell_type": "code",
     "collapsed": false,
     "input": [
      "with open('fudgey.csv', 'w') as outfile:  # the 'w' stands for 'write'\n",
      "    writer = csv.writer(outfile)\n",
      "    for canadian_row in fudgey_data:\n",
      "        writer.writerow(canadian_row)\n",
      "    "
     ],
     "language": "python",
     "metadata": {},
     "outputs": [],
     "prompt_number": 37
    },
    {
     "cell_type": "markdown",
     "metadata": {},
     "source": [
      "Have a look at fudgey.csv!  You can open fudgey.csv from a spreadsheet program, and it will know how to convert it into spreadsheet format."
     ]
    },
    {
     "cell_type": "markdown",
     "metadata": {},
     "source": [
      "Incidentally, if you can get permission to work in a different spreadsheet program altogether (but one that's compatible with MS Excel), check out [Resolver One](http://www.resolversystems.com/products/resolver-one/) - it's a spreadsheet that lets you use Python directly in its cells!  Really interesting project."
     ]
    },
    {
     "cell_type": "markdown",
     "metadata": {},
     "source": [
      "Scraping a webpage\n",
      "=================="
     ]
    },
    {
     "cell_type": "markdown",
     "metadata": {},
     "source": [
      "The main office writes again:\n",
      "    \n",
      "> Our currency conversions need to be up-to-date.  Redo the numbers daily with the current exchange rate.\n",
      "\n",
      "There are a bunch of ways in Python to get data off a webpage.  Probably the easiest way requires two extra packages: [*requests*](http://docs.python-requests.org/) and [*BeautifulSoup*](http://www.crummy.com/software/BeautifulSoup/).  Put those packages on your computer:\n",
      "\n",
      "    pip install requests\n",
      "    pip install beautifulsoup\n"
     ]
    },
    {
     "cell_type": "code",
     "collapsed": false,
     "input": [
      "import requests\n",
      "page = requests.get('http://www.bankofcanada.ca/rates/exchange/')\n",
      "print(page.text[:2000])"
     ],
     "language": "python",
     "metadata": {},
     "outputs": [
      {
       "output_type": "stream",
       "stream": "stdout",
       "text": [
        "\ufeff<!DOCTYPE html PUBLIC \"-//W3C//DTD XHTML 1.0 Transitional//EN\" \"http://www.w3.org/TR/xhtml1/DTD/xhtml1-transitional.dtd\">\r\n",
        "<html xmlns=\"http://www.w3.org/1999/xhtml\" dir=\"ltr\" lang=\"en-US\">\r\n",
        "<head prefix=\"og: http://ogp.me/ns/website#\">\r\n",
        "\t<meta http-equiv=\"content-type\" content=\"text/html; charset=UTF-8\" />\r\n",
        "\t<meta property=\"og:url\" content=\"http://www.bankofcanada.ca\" />\r\n",
        "\t<meta property=\"og:title\" content=\"Bank of Canada\" />\r\n",
        "\t<meta property=\"og:type\" content=\"website\" />\r\n",
        "\t<meta property=\"og:image\" content=\"http://www.bankofcanada.ca/wp-content/themes/boc-new/img/logo-en.png\" />\r\n",
        "\t<meta property=\"og:description\" content=\"The Bank of Canada is the nation's central bank. We are not a commercial bank and do not offer banking services to the public. Rather, we have responsibilities for Canada's monetary policy, bank notes, financial system, and funds management. Our principal role, as defined in the Bank of Canada Act, is &quot;to promote the economic and financial welfare of Canada.&quot;\" />\r\n",
        "\r\n",
        "\t<title>Exchange Rates - Bank of Canada</title>\r\n",
        "\r\n",
        "\t<link rel=\"pingback\" href=\"http://www.bankofcanada.ca/xmlrpc.php\" />\r\n",
        "\r\n",
        "\t<style type=\"text/css\">\r\n",
        "\t\t@font-face {\r\n",
        "\t\t\tfont-family: 'DroidSansRegular';\r\n",
        "\t\t\tsrc: url('http://www.bankofcanada.ca/wp-content/themes/boc-new/css/fonts/DroidSans-webfont.eot');\r\n",
        "\t\t\tsrc: local('?'), url('http://www.bankofcanada.ca/wp-content/themes/boc-new/css/fonts/DroidSans-webfont.woff') format('woff'), url('http://www.bankofcanada.ca/wp-content/themes/boc-new/css/fonts/DroidSans-webfont.ttf') format('truetype'), url('http://www.bankofcanada.ca/wp-content/themes/boc-new/css/fonts/DroidSans-webfont.svg#webfontKYIQSBQk') format('svg');\r\n",
        "\t\t\tfont-weight: normal;\r\n",
        "\t\t\tfont-style: normal;\r\n",
        "\t\t}\r\n",
        "\r\n",
        "\t\t@font-face {\r\n",
        "\t\t\tfont-family: 'PTSansRegular';\r\n",
        "\t\t\tsrc: url('http://www.bankofcanada.ca/wp-content/themes/boc-new/css/fonts/PTS55F-webfont.eot');\r\n",
        "\t\t\tsrc: local('?'), url('http://www.bankofcanada.ca/wp-content/themes/boc-new/css/fonts/PTS55F-webfont.woff') for\n"
       ]
      }
     ],
     "prompt_number": 58
    },
    {
     "cell_type": "markdown",
     "metadata": {},
     "source": [
      "Ewww!  Good thing we only printed the first 2000 characters!  But when we eyeball the actual page in our browser, we know that we're looking for \"1 CAD noon\", so we use View Source in our browser and then search that.  We find it in\n",
      "\n",
      "    <tr><th>1 CAD noon</th><td>0.9846 USD</td><td>0.9836 USD</td></tr>\n",
      "\n",
      "Now we know that our program just needs to find the HTML *element* whose *text* is \"1 CAD noon\", then take the text of the *next* HTML element after that.  The BeautifulSoup package makes that easy.\n"
     ]
    },
    {
     "cell_type": "code",
     "collapsed": false,
     "input": [
      "import BeautifulSoup\n",
      "soup = BeautifulSoup.BeautifulSoup(page.text)\n",
      "rate_element = soup.find('th', text=\"1 CAD noon\").next.text\n",
      "rate_element"
     ],
     "language": "python",
     "metadata": {},
     "outputs": [
      {
       "output_type": "pyout",
       "prompt_number": 60,
       "text": [
        "u'0.9846 USD'"
       ]
      }
     ],
     "prompt_number": 60
    },
    {
     "cell_type": "markdown",
     "metadata": {},
     "source": [
      "Now we just need to extract the number from that string... `.split()` will chop it into a list of separate words; we want the first word."
     ]
    },
    {
     "cell_type": "code",
     "collapsed": false,
     "input": [
      "rate = rate_element.split()[0]\n",
      "rate"
     ],
     "language": "python",
     "metadata": {},
     "outputs": [
      {
       "output_type": "pyout",
       "prompt_number": 63,
       "text": [
        "u'0.9846'"
       ]
      }
     ],
     "prompt_number": 63
    },
    {
     "cell_type": "code",
     "collapsed": false,
     "input": [
      "usd_to_cad = float(rate)\n",
      "usd_to_cad"
     ],
     "language": "python",
     "metadata": {},
     "outputs": [
      {
       "output_type": "pyout",
       "prompt_number": 64,
       "text": [
        "0.9846"
       ]
      }
     ],
     "prompt_number": 64
    },
    {
     "cell_type": "code",
     "collapsed": false,
     "input": [],
     "language": "python",
     "metadata": {},
     "outputs": []
    }
   ],
   "metadata": {}
  }
 ]
}