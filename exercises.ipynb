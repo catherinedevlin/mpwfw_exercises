{
 "metadata": {
  "name": "exercises"
 },
 "nbformat": 3,
 "nbformat_minor": 0,
 "worksheets": [
  {
   "cells": [
    {
     "cell_type": "code",
     "collapsed": false,
     "input": [
      "from ipython_doctester import test\n",
      "import ipython_doctester\n",
      "ipython_doctester.workshop_name = None\n",
      "ipython_doctester.student_name = None\n",
      "ipython_doctester.verbose = True"
     ],
     "language": "python",
     "metadata": {},
     "outputs": [],
     "prompt_number": 4
    },
    {
     "cell_type": "heading",
     "level": 1,
     "metadata": {},
     "source": [
      "Friday evening exercises"
     ]
    },
    {
     "cell_type": "markdown",
     "metadata": {},
     "source": [
      "These exercises cover material from the Midwest Python Workshop Friday Python tutorial.\n",
      "\n",
      "If you have any questions, don't hesitate to ask your neighbor or a staff member for help.  We're all here to cooperate!"
     ]
    },
    {
     "cell_type": "markdown",
     "metadata": {},
     "source": [
      "Core exercises: please complete these first\n",
      "==========================================="
     ]
    },
    {
     "cell_type": "markdown",
     "metadata": {},
     "source": [
      "happyBirthday(name)\n",
      "===================\n",
      "\n",
      "Given a string *name*, return a string of the form \"Happy Birthday <name>!\".\n",
      "\n",
      "Hints (highlight with your mouse to see them): \n",
      "\n",
      "<ul style=\"color:white\">\n",
      "<li>You can join strings together (called \"concatenation\") using '+'.</li>\n",
      "<li>Use the return keyword to return your new string.</li>\n",
      "<li>Don't forget the exclamation point! :)</li>\n",
      "</ul>\n"
     ]
    },
    {
     "cell_type": "code",
     "collapsed": false,
     "input": [
      "@test\n",
      "def happyBirthday(name):\n",
      "    '''\n",
      "    >>> happyBirthday('Jessica')\n",
      "    'Happy Birthday Jessica!'\n",
      "    >>> happyBirthday('Adam')\n",
      "    'Happy Birthday Adam!'\n",
      "    >>> happyBirthday('Liz')\n",
      "    'Happy Birthday Liz!'\n",
      "    '''\n"
     ],
     "language": "python",
     "metadata": {},
     "outputs": []
    },
    {
     "cell_type": "markdown",
     "metadata": {},
     "source": [
      "cube(i)\n",
      "-------\n",
      "\n",
      "given a number, return the cube of that number. \n",
      "\n",
      "Hints: \n",
      "\n",
      "<ul style=\"color:white\">\n",
      "<li>You can use '*' for multiplication. You can also use the exponent operator '**'.</li>\n",
      "<li>Don't forget to return your answer.</li>\n",
      "</ul>\n"
     ]
    },
    {
     "cell_type": "code",
     "collapsed": false,
     "input": [
      "@test\n",
      "def cube(i):\n",
      "    '''\n",
      "    >>> cube(1)\n",
      "    1\n",
      "    >>> cube(2)\n",
      "    8\n",
      "    >>> cube(3)\n",
      "    27\n",
      "    '''"
     ],
     "language": "python",
     "metadata": {},
     "outputs": []
    },
    {
     "cell_type": "markdown",
     "metadata": {},
     "source": [
      "tooLongForTwitter(myString)\n",
      "---------------------------\n",
      "\n",
      "Twitter messages can't be more than 140 characters! Given a string myString, return True if the string is longer that 140 characters, and return False if the string is less than or equal to 140 characters. \n",
      "\n",
      "Hints: \n",
      "    \n",
      "<ul style=\"color:white\">\n",
      "<li>Check your notes on the len() function</li>\n",
      "<li>Check your notes on <, >, <=, >=</li>\n",
      "</ul>"
     ]
    },
    {
     "cell_type": "code",
     "collapsed": false,
     "input": [
      "@test\n",
      "def tooLongForTwitter(myString):\n",
      "    '''\n",
      "    >>> tooLongForTwitter('The Analytical Engine weaves algebraic patterns, just as the Jacquard loom weaves flowers and leaves.' +\n",
      "    ... '-- Ada Lovelace, the first programmer')\n",
      "    False\n",
      "    >>> tooLongForTwitter('Four score and seven years ago our fathers brought forth on this continent a new nation, ' +\n",
      "    ... 'conceived in liberty, and dedicated to the proposition that all men are created equal.')\n",
      "    True\n",
      "    >>> tooLongForTwitter('They told me computers could only do arithmetic. -- Computer pioneer Grace Hopper')\n",
      "    False\n",
      "    '''"
     ],
     "language": "python",
     "metadata": {},
     "outputs": [
      {
       "html": [
        "\n",
        "        <p><span style=\"color:red;\">Oops!</span>  Not quite there yet...</p>\n",
        "      \n",
        "        <table>\n",
        "          <tr><th>Tried</th><th>Expected</th><th>Got</th></tr><tr><td><code><pre>tooLongForTwitter('The Analytical Engine weaves algebraic patterns, just as the Jacquard loom weaves flowers and leaves.' +\n",
        "'-- Ada Lovelace, the first programmer')\n",
        "</pre></code></td><td><pre>False\n",
        "</pre></td><td><pre style=\"color:red\">Nothing</pre></td></tr>\n",
        "        <tr><td><code><pre>tooLongForTwitter('Four score and seven years ago our fathers brought forth on this continent a new nation, ' +\n",
        "'conceived in liberty, and dedicated to the proposition that all men are created equal.')\n",
        "</pre></code></td><td><pre>True\n",
        "</pre></td><td><pre style=\"color:red\">Nothing</pre></td></tr>\n",
        "        <tr><td><code><pre>tooLongForTwitter('They told me computers could only do arithmetic. -- Computer pioneer Grace Hopper')\n",
        "</pre></code></td><td><pre>False\n",
        "</pre></td><td><pre style=\"color:red\">Nothing</pre></td></tr>\n",
        "        </table>\n",
        "        "
       ],
       "output_type": "display_data"
      }
     ],
     "prompt_number": 6
    },
    {
     "cell_type": "markdown",
     "metadata": {},
     "source": [
      "multiplyString(myString, numRepetitions))\n",
      "-----------------------------------------\n",
      "\n",
      "Given a string myString and a number numRepetitions, return myString multiplied numRepetitions times. \n",
      "\n",
      "Hints: \n",
      "    \n",
      "<ul style=\"color:white\">\n",
      "<li>Try this at a Python prompt: print \"z\"*5</li>\n",
      "</ul>"
     ]
    },
    {
     "cell_type": "code",
     "collapsed": false,
     "input": [
      "@test\n",
      "def multiplyString(myString, numRepetitions):\n",
      "    '''\n",
      "    >>> multiplyString('a', 4)\n",
      "    'aaaa'\n",
      "    >>> multiplyString('Hello', 2)\n",
      "    'HelloHello'\n",
      "    >>> multiplyString('Python', 3)\n",
      "    'PythonPythonPython'\n",
      "    '''\n"
     ],
     "language": "python",
     "metadata": {},
     "outputs": [
      {
       "ename": "NameError",
       "evalue": "name 'test' is not defined",
       "output_type": "pyerr",
       "traceback": [
        "\u001b[1;31m---------------------------------------------------------------------------\u001b[0m\n\u001b[1;31mNameError\u001b[0m                                 Traceback (most recent call last)",
        "\u001b[1;32m<ipython-input-1-c15d3050b0a8>\u001b[0m in \u001b[0;36m<module>\u001b[1;34m()\u001b[0m\n\u001b[1;32m----> 1\u001b[1;33m \u001b[1;33m@\u001b[0m\u001b[0mtest\u001b[0m\u001b[1;33m\u001b[0m\u001b[0m\n\u001b[0m\u001b[0;32m      2\u001b[0m \u001b[1;32mdef\u001b[0m \u001b[0mmultiplyString\u001b[0m\u001b[1;33m(\u001b[0m\u001b[0mmyString\u001b[0m\u001b[1;33m,\u001b[0m \u001b[0mnumRepetitions\u001b[0m\u001b[1;33m)\u001b[0m\u001b[1;33m:\u001b[0m\u001b[1;33m\u001b[0m\u001b[0m\n\u001b[0;32m      3\u001b[0m     '''\n\u001b[0;32m      4\u001b[0m     \u001b[1;33m>>\u001b[0m\u001b[1;33m>\u001b[0m \u001b[0mmultiplyString\u001b[0m\u001b[1;33m(\u001b[0m\u001b[1;34m'a'\u001b[0m\u001b[1;33m,\u001b[0m \u001b[1;36m4\u001b[0m\u001b[1;33m)\u001b[0m\u001b[1;33m\u001b[0m\u001b[0m\n\u001b[0;32m      5\u001b[0m     \u001b[1;34m'aaaa'\u001b[0m\u001b[1;33m\u001b[0m\u001b[0m\n",
        "\u001b[1;31mNameError\u001b[0m: name 'test' is not defined"
       ]
      }
     ],
     "prompt_number": 1
    },
    {
     "cell_type": "markdown",
     "metadata": {},
     "source": [
      "Bonus exercises (Friday night)\n",
      "==============================\n",
      "\n",
      "Try these if you have time!"
     ]
    },
    {
     "cell_type": "markdown",
     "metadata": {},
     "source": [
      "checkNickname(nickname, firstname)\n",
      "----------------------------------\n",
      "\n",
      " Given a lowercase string nickname and a lowercase string firstname, return True if nickname is completely a part of firstname. \n",
      "\n",
      "\n",
      "Hints: \n",
      "    \n",
      "<ul style=\"color:white\">\n",
      "<li>Review the tutorial for how to use the 'in' keyword to check if one string is in another string</li>\n",
      "</ul>"
     ]
    },
    {
     "cell_type": "code",
     "collapsed": false,
     "input": [
      "@test\n",
      "def checkNickname(nickname, firstname):\n",
      "    '''\n",
      "    >>> checkNickname('jess', 'jessica')\n",
      "    True\n",
      "    >>> checkNickname('bill', 'william')\n",
      "    False\n",
      "    >>> checkNickname('liz', 'elizabeth')\n",
      "    True\n",
      "    '''"
     ],
     "language": "python",
     "metadata": {},
     "outputs": [
      {
       "html": [
        "\n",
        "        <p><span style=\"color:red;\">Oops!</span>  Not quite there yet...</p>\n",
        "      \n",
        "        <table>\n",
        "          <tr><th>Tried</th><th>Expected</th><th>Got</th></tr><tr><td><code><pre>checkNickname('jess', 'jessica')\n",
        "</pre></code></td><td><pre>True\n",
        "</pre></td><td><pre style=\"color:red\">Nothing</pre></td></tr>\n",
        "        <tr><td><code><pre>checkNickname('bill', 'william')\n",
        "</pre></code></td><td><pre>False\n",
        "</pre></td><td><pre style=\"color:red\">Nothing</pre></td></tr>\n",
        "        <tr><td><code><pre>checkNickname('liz', 'elizabeth')\n",
        "</pre></code></td><td><pre>True\n",
        "</pre></td><td><pre style=\"color:red\">Nothing</pre></td></tr>\n",
        "        </table>\n",
        "        "
       ],
       "output_type": "display_data"
      }
     ],
     "prompt_number": 5
    },
    {
     "cell_type": "markdown",
     "metadata": {},
     "source": [
      "greatest(x, y, z)\n",
      "-----------------\n",
      "\n",
      "Given numbers x, y, and z, return the greatest of these three numbers. \n",
      "\n",
      "\n",
      "Hints: \n",
      "    \n",
      "<ul style=\"color:white\">\n",
      "    <li>You can use the 'and' keyword to check multiple conditions in an 'if' statement</li>\n",
      "    <li>You might end up using multiple 'if' statements</li>\n",
      "</ul>"
     ]
    },
    {
     "cell_type": "code",
     "collapsed": false,
     "input": [
      "@test\n",
      "def greatest(x, y, z):\n",
      "    '''\n",
      "    >>> greatest(3, 9, 6)\n",
      "    9\n",
      "    >>> greatest(0.5, 0.25, 0)\n",
      "    0.5\n",
      "    >>> greatest(4, 5, 5)\n",
      "    5\n",
      "    '''"
     ],
     "language": "python",
     "metadata": {},
     "outputs": [
      {
       "html": [
        "\n",
        "        <p><span style=\"color:red;\">Oops!</span>  Not quite there yet...</p>\n",
        "      \n",
        "        <table>\n",
        "          <tr><th>Tried</th><th>Expected</th><th>Got</th></tr><tr><td><code><pre>greatest(3, 9, 6)\n",
        "</pre></code></td><td><pre>9\n",
        "</pre></td><td><pre style=\"color:red\">Nothing</pre></td></tr>\n",
        "        <tr><td><code><pre>greatest(0.5, 0.25, 0)\n",
        "</pre></code></td><td><pre>0.5\n",
        "</pre></td><td><pre style=\"color:red\">Nothing</pre></td></tr>\n",
        "        <tr><td><code><pre>greatest(4, 5, 5)\n",
        "</pre></code></td><td><pre>5\n",
        "</pre></td><td><pre style=\"color:red\">Nothing</pre></td></tr>\n",
        "        </table>\n",
        "        "
       ],
       "output_type": "display_data"
      }
     ],
     "prompt_number": 8
    },
    {
     "cell_type": "markdown",
     "metadata": {},
     "source": [
      "End Friday exercises\n",
      "====================\n",
      "\n",
      "Congratulations!  Once you've gotten this far, please head back to the workshop wiki to finish the rest of the Friday material."
     ]
    },
    {
     "cell_type": "markdown",
     "metadata": {},
     "source": [
      "Saturday morning exercises\n",
      "==========================\n",
      "\n",
      "Wake up your brain with these exercises that review Friday's material.\n",
      "\n",
      "If you have any questions, don't hesitate to ask your neighbor or a staff member for help! \n",
      "\n",
      "Now is also a great time to review the Friday tutorial material. "
     ]
    },
    {
     "cell_type": "markdown",
     "metadata": {},
     "source": [
      "menuSpecials(vegetable, entree)\n",
      "-------------------------------\n",
      "\n",
      "Given a string vegetable and a string entree, return the string \"Today our specials are: &lt;vegetable&gt; and &lt;entree&gt;\". \n",
      "\n",
      "Hints: \n",
      "    \n",
      "<ul style=\"color:white\">\n",
      "    <li>Review the Friday tutorial for how to use \" and ' together in strings.</li>\n",
      "    <li>Remember to return instead of printing. What's the difference between returning and printing?</li>\n",
      "</ul>\n"
     ]
    },
    {
     "cell_type": "code",
     "collapsed": false,
     "input": [
      "@test\n",
      "def menuSpecials(vegetable, entree):\n",
      "    '''\n",
      "    >>> menuSpecials('asparagus', 'pasta primavera')\n",
      "    'Today our specials are: asparagus and pasta primavera'\n",
      "    >>> menuSpecials('artichoke', 'steak frites')\n",
      "    'Today our specials are: artichoke and steak frites'\n",
      "    >>> menuSpecials('kale', 'fondue')\n",
      "    'Today our specials are: kale and fondue'\n",
      "    '''\n",
      "    "
     ],
     "language": "python",
     "metadata": {},
     "outputs": [
      {
       "html": [
        "\n",
        "        <p><span style=\"color:red;\">Oops!</span>  Not quite there yet...</p>\n",
        "      \n",
        "        <table>\n",
        "          <tr><th>Tried</th><th>Expected</th><th>Got</th></tr><tr><td><code><pre>menuSpecials('asparagus', 'pasta primavera')\n",
        "</pre></code></td><td><pre>'Today our specials are: asparagus and pasta primavera'\n",
        "</pre></td><td><pre style=\"color:red\">Nothing</pre></td></tr>\n",
        "        <tr><td><code><pre>menuSpecials('artichoke', 'steak frites')\n",
        "</pre></code></td><td><pre>'Today our specials are: artichoke and steak frites'\n",
        "</pre></td><td><pre style=\"color:red\">Nothing</pre></td></tr>\n",
        "        <tr><td><code><pre>menuSpecials('kale', 'fondue')\n",
        "</pre></code></td><td><pre>'Today our specials are: kale and fondue'\n",
        "</pre></td><td><pre style=\"color:red\">Nothing</pre></td></tr>\n",
        "        </table>\n",
        "        "
       ],
       "output_type": "display_data"
      }
     ],
     "prompt_number": 13
    },
    {
     "cell_type": "markdown",
     "metadata": {},
     "source": [
      "enoughLadybugs(ladybugs, trees)\n",
      "-------------------------------\n",
      "\n",
      "It takes 100 ladybugs to protect 1 tree from aphids. Given an integer ladybugs and an integer trees, return True if you have enough ladybugs to protect the trees, or False if you need to buy more ladybugs.\n",
      "\n",
      "\n",
      "Hints: \n",
      "    \n",
      "<ul style=\"color:white\">\n",
      "    <li>Review using &gt;, &lt;, &gt;=, and &lt;= in 'if' statements</li>\n",
      "    <li>Be sure to return the boolean True and not the string 'True'</li>\n",
      "</ul>"
     ]
    },
    {
     "cell_type": "code",
     "collapsed": false,
     "input": [
      "@test\n",
      "def enoughLadybugs(ladybugs, trees):\n",
      "    '''\n",
      "    >>> enoughLadybugs(300, 3)\n",
      "    True\n",
      "    >>> enoughLadybugs(300, 4)\n",
      "    False\n",
      "    >>> enoughLadybugs(250, 11)\n",
      "    False\n",
      "    '''\n",
      "    "
     ],
     "language": "python",
     "metadata": {},
     "outputs": [
      {
       "html": [
        "\n",
        "        <p><span style=\"color:red;\">Oops!</span>  Not quite there yet...</p>\n",
        "      \n",
        "        <table>\n",
        "          <tr><th>Tried</th><th>Expected</th><th>Got</th></tr><tr><td><code><pre>enoughLadybugs(300, 3)\n",
        "</pre></code></td><td><pre>True\n",
        "</pre></td><td><pre style=\"color:red\">Nothing</pre></td></tr>\n",
        "        <tr><td><code><pre>enoughLadybugs(300, 4)\n",
        "</pre></code></td><td><pre>False\n",
        "</pre></td><td><pre style=\"color:red\">Nothing</pre></td></tr>\n",
        "        <tr><td><code><pre>enoughLadybugs(250, 11)\n",
        "</pre></code></td><td><pre>False\n",
        "</pre></td><td><pre style=\"color:red\">Nothing</pre></td></tr>\n",
        "        </table>\n",
        "        "
       ],
       "output_type": "display_data"
      }
     ],
     "prompt_number": 14
    },
    {
     "cell_type": "markdown",
     "metadata": {},
     "source": [
      "makeHTML(tag, word)\n",
      "-------------------\n",
      "\n",
      "Web pages use \"HTML markup\" to style their text. For example, \"&lt;i&gt;Test&lt;/i&gt;\" causes the string \"Test\" to be displayed in italics. In this example, the \"i\" tag surrounds the string \"Test\" starting with &lt;i&gt; and ending with &lt;/i&gt;. Given a string tag and a string word, return the word with HTML tags around it, for example \"&lt;i&gt;Test&lt;/i&gt;\". \n",
      "\n",
      "Hints:\n",
      "\n",
      "<ul style=\"color:white\">\n",
      "    <li>Use \"+\" to join strings together (called \"concatenation\")</li>\n",
      "    <li>Try writing this function at a Python prompt and printing the string you are forming to make sure it looks right.</li>\n",
      "</ul>\n",
      "\n",
      "\n"
     ]
    },
    {
     "cell_type": "code",
     "collapsed": false,
     "input": [
      "@test\n",
      "def makeHTML(tag, word):\n",
      "    '''\n",
      "    >>> makeHTML('i', 'Test')\n",
      "    '<i>Test</i>'\n",
      "    >>> makeHTML('b', 'Important!')\n",
      "    '<b>Important!</b>'\n",
      "    >>> makeHTML('code', 'variable')\n",
      "    '<code>variable</code>'\n",
      "    '''"
     ],
     "language": "python",
     "metadata": {},
     "outputs": [
      {
       "html": [
        "\n",
        "        <p><span style=\"color:red;\">Oops!</span>  Not quite there yet...</p>\n",
        "      \n",
        "        <table>\n",
        "          <tr><th>Tried</th><th>Expected</th><th>Got</th></tr><tr><td><code><pre>makeHTML('i', 'Test')\n",
        "</pre></code></td><td><pre>'&lt;i&gt;Test&lt;/i&gt;'\n",
        "</pre></td><td><pre style=\"color:red\">Nothing</pre></td></tr>\n",
        "        <tr><td><code><pre>makeHTML('b', 'Important!')\n",
        "</pre></code></td><td><pre>'&lt;b&gt;Important!&lt;/b&gt;'\n",
        "</pre></td><td><pre style=\"color:red\">Nothing</pre></td></tr>\n",
        "        <tr><td><code><pre>makeHTML('code', 'variable')\n",
        "</pre></code></td><td><pre>'&lt;code&gt;variable&lt;/code&gt;'\n",
        "</pre></td><td><pre style=\"color:red\">Nothing</pre></td></tr>\n",
        "        </table>\n",
        "        "
       ],
       "output_type": "display_data"
      }
     ],
     "prompt_number": 15
    },
    {
     "cell_type": "markdown",
     "metadata": {},
     "source": [
      "Saturday afternoon exercises\n",
      "============================\n",
      "\n",
      "These exercises will help you review Saturday's material before the afternoon projects.\n",
      "\n",
      "If you have any questions, don't hesitate to ask your neighbor or a staff member for help! "
     ]
    },
    {
     "cell_type": "markdown",
     "metadata": {},
     "source": [
      "returnFirstItem(myList)\n",
      "-----------------------\n",
      "\n",
      "Given a list, myList, return the very first (what programmers might call \"zero-th\"), item in that list \n",
      "\n",
      "Hint: \n",
      "\n",
      "<ul style=\"color:white\">\n",
      "    <li>Check the data types handout: how do you access elements of a list?</li>\n",
      "</ul>    "
     ]
    },
    {
     "cell_type": "code",
     "collapsed": false,
     "input": [
      "@test\n",
      "def returnFirstItem(myList):\n",
      "    '''\n",
      "    >>>\n",
      "    >>> returnFirstItem(['a', 'b', 'c'])\n",
      "    'a'\n",
      "    >>> returnFirstItem([4.5, 72, -1, 6])\n",
      "    4.5\n",
      "    >>> returnFirstItem(['Hermione', 'Ron', 'Harry'])\n",
      "    'Hermione'\n",
      "    '''"
     ],
     "language": "python",
     "metadata": {},
     "outputs": [
      {
       "html": [
        "\n",
        "        <p><span style=\"color:red;\">Oops!</span>  Not quite there yet...</p>\n",
        "      \n",
        "        <table>\n",
        "          <tr><th>Tried</th><th>Expected</th><th>Got</th></tr><tr><td><code><pre>returnFirstItem(['a', 'b', 'c'])\n",
        "</pre></code></td><td><pre>'a'\n",
        "</pre></td><td><pre style=\"color:red\">Nothing</pre></td></tr>\n",
        "        <tr><td><code><pre>returnFirstItem([4.5, 72, -1, 6])\n",
        "</pre></code></td><td><pre>4.5\n",
        "</pre></td><td><pre style=\"color:red\">Nothing</pre></td></tr>\n",
        "        <tr><td><code><pre>returnFirstItem(['Hermione', 'Ron', 'Harry'])\n",
        "</pre></code></td><td><pre>'Hermione'\n",
        "</pre></td><td><pre style=\"color:red\">Nothing</pre></td></tr>\n",
        "        </table>\n",
        "        "
       ],
       "output_type": "display_data"
      }
     ],
     "prompt_number": 16
    },
    {
     "cell_type": "markdown",
     "metadata": {},
     "source": [
      "addExclamation(myList)\n",
      "----------------------\n",
      "\n",
      "Given a list myList, add a string \"!\" to the end of the list and return the list \n",
      "\n",
      "Hint:\n",
      "\n",
      "<ul style=\"color:white\">\n",
      "    <li>Review your data types handout; what list function do you use to add new items to a list?</li>\n",
      "</ul>    "
     ]
    },
    {
     "cell_type": "code",
     "collapsed": false,
     "input": [
      "@test\n",
      "def addExclamation(myList):\n",
      "    '''\n",
      "    >>> addExclamation(['alpha', 'beta'])\n",
      "    ['alpha', 'beta', '!']\n",
      "    >>> addExclamation(['Jessica', 'likes', 'ice cream'])\n",
      "    ['Jessica', 'likes', 'ice cream', '!']\n",
      "    >>> addExclamation(['?', '#', '$'])\n",
      "    ['?', '#', '$', '!']\n",
      "    '''"
     ],
     "language": "python",
     "metadata": {},
     "outputs": [
      {
       "html": [
        "\n",
        "        <p><span style=\"color:red;\">Oops!</span>  Not quite there yet...</p>\n",
        "      \n",
        "        <table>\n",
        "          <tr><th>Tried</th><th>Expected</th><th>Got</th></tr><tr><td><code><pre>addExclamation(['alpha', 'beta'])\n",
        "</pre></code></td><td><pre>['alpha', 'beta', '!']\n",
        "</pre></td><td><pre style=\"color:red\">Nothing</pre></td></tr>\n",
        "        <tr><td><code><pre>addExclamation(['Jessica', 'likes', 'ice cream'])\n",
        "</pre></code></td><td><pre>['Jessica', 'likes', 'ice cream', '!']\n",
        "</pre></td><td><pre style=\"color:red\">Nothing</pre></td></tr>\n",
        "        <tr><td><code><pre>addExclamation(['?', '#', '$'])\n",
        "</pre></code></td><td><pre>['?', '#', '$', '!']\n",
        "</pre></td><td><pre style=\"color:red\">Nothing</pre></td></tr>\n",
        "        </table>\n",
        "        "
       ],
       "output_type": "display_data"
      }
     ],
     "prompt_number": 17
    },
    {
     "cell_type": "markdown",
     "metadata": {},
     "source": [
      "findStudent(name, studentList)\n",
      "------------------------------\n",
      "\n",
      "Given a student's name, name, and a list of student names, studentList, return the boolean True if the student name is in the list, and False otherwise.\n",
      "\n",
      "Hints:\n",
      "\n",
      "<ul style=\"color:white\">\n",
      "  <li>You don't need a for loop. Check the data types handout: how can you check if something is in a list?</li>\n",
      "  <li>Think about the 'in' keyword.</li>\n",
      "</ul>"
     ]
    },
    {
     "cell_type": "code",
     "collapsed": false,
     "input": [
      "@test\n",
      "def findStudent(name, studentList):\n",
      "    '''\n",
      "    >>> findStudent('Wanda', ['Henry', 'Beatrice', 'Wanda', 'Evan'])\n",
      "    True\n",
      "    >>> findStudent('Adam', ['Tanya', 'Alice', 'Sean'])\n",
      "    False\n",
      "    >>> findStudent('Jen', ['Jessica', 'Jessie', 'Jerry', 'Jen'])\n",
      "    True\n",
      "    '''\n"
     ],
     "language": "python",
     "metadata": {},
     "outputs": [
      {
       "html": [
        "\n",
        "        <p><span style=\"color:red;\">Oops!</span>  Not quite there yet...</p>\n",
        "      \n",
        "        <table>\n",
        "          <tr><th>Tried</th><th>Expected</th><th>Got</th></tr><tr><td><code><pre>findStudent('Wanda', ['Henry', 'Beatrice', 'Wanda', 'Evan'])\n",
        "</pre></code></td><td><pre>True\n",
        "</pre></td><td><pre style=\"color:red\">Nothing</pre></td></tr>\n",
        "        <tr><td><code><pre>findStudent('Adam', ['Tanya', 'Alice', 'Sean'])\n",
        "</pre></code></td><td><pre>False\n",
        "</pre></td><td><pre style=\"color:red\">Nothing</pre></td></tr>\n",
        "        <tr><td><code><pre>findStudent('Jen', ['Jessica', 'Jessie', 'Jerry', 'Jen'])\n",
        "</pre></code></td><td><pre>True\n",
        "</pre></td><td><pre style=\"color:red\">Nothing</pre></td></tr>\n",
        "        </table>\n",
        "        "
       ],
       "output_type": "display_data"
      }
     ],
     "prompt_number": 18
    },
    {
     "cell_type": "markdown",
     "metadata": {},
     "source": [
      "getFirstQWord(wordList)\n",
      "-----------------------\n",
      "\n",
      "Given a list of lowercase words, return the first word that starts with a \"q\". There will always be at least one \"q\" word.\n",
      "\n",
      "Hints:\n",
      "\n",
      "<ul style=\"color:white\">\n",
      "    <li> We need to go through every item in the word list checking for a condition. This sounds like a good job for a for loop!</li>\n",
      "    <li>How do you get the first letter of a word?</li>\n",
      "    <li>How do you compare things?</li>\n",
      "</ul>    "
     ]
    },
    {
     "cell_type": "code",
     "collapsed": false,
     "input": [
      "@test\n",
      "def getFirstQWord(wordList):\n",
      "    '''\n",
      "    >>> getFirstQWord(['quail', 'quetzal', 'quizzical'])\n",
      "    'quail'\n",
      "    >>> getFirstQWord(['croissant', 'quiche', 'toast'])\n",
      "    'quiche'\n",
      "    >>> getFirstQWord(['zip', 'blip', 'quip'])\n",
      "    'quip'\n",
      "    '''\n",
      "    "
     ],
     "language": "python",
     "metadata": {},
     "outputs": [
      {
       "html": [
        "\n",
        "        <p><span style=\"color:red;\">Oops!</span>  Not quite there yet...</p>\n",
        "      \n",
        "        <table>\n",
        "          <tr><th>Tried</th><th>Expected</th><th>Got</th></tr><tr><td><code><pre>getFirstQWord(['quail', 'quetzal', 'quizzical'])\n",
        "</pre></code></td><td><pre>'quail'\n",
        "</pre></td><td><pre style=\"color:red\">Nothing</pre></td></tr>\n",
        "        <tr><td><code><pre>getFirstQWord(['croissant', 'quiche', 'toast'])\n",
        "</pre></code></td><td><pre>'quiche'\n",
        "</pre></td><td><pre style=\"color:red\">Nothing</pre></td></tr>\n",
        "        <tr><td><code><pre>getFirstQWord(['zip', 'blip', 'quip'])\n",
        "</pre></code></td><td><pre>'quip'\n",
        "</pre></td><td><pre style=\"color:red\">Nothing</pre></td></tr>\n",
        "        </table>\n",
        "        "
       ],
       "output_type": "display_data"
      }
     ],
     "prompt_number": 19
    },
    {
     "cell_type": "markdown",
     "metadata": {},
     "source": [
      "countFs(phrase)\n",
      "---------------\n",
      "\n",
      "Given a string phrase, return the total number of \"f\"s and \"F\"s in the phrase.\n",
      "\n",
      "Hints:\n",
      "\n",
      "<ul style=\"color:white\">\n",
      "    <li>You can loop over the letters in a string with a for loop just like you can with lists.</li>\n",
      "    <li>Review your notes on how to use the 'or' and 'and' keywords to test more than one condition in an 'if' statement.</li>\n",
      "    <li>Use a counter to keep track of how many f%26#39;s you%26#39;ve found. Set it to 0 before you start your for loop.</li>\n",
      "</ul>\n"
     ]
    },
    {
     "cell_type": "code",
     "collapsed": false,
     "input": [
      "@test\n",
      "def countFs(phrase):\n",
      "    '''\n",
      "    >>> countFs('Finished files are the result of years of scientific study combined with the experience of years.')\n",
      "    6\n",
      "    >>> countFs('Four score and seven years ago')\n",
      "    1\n",
      "    >>> countFs('A man, a plan, a canal - Panama!')\n",
      "    0\n",
      "    '''"
     ],
     "language": "python",
     "metadata": {},
     "outputs": [
      {
       "html": [
        "\n",
        "        <p><span style=\"color:red;\">Oops!</span>  Not quite there yet...</p>\n",
        "      \n",
        "        <table>\n",
        "          <tr><th>Tried</th><th>Expected</th><th>Got</th></tr><tr><td><code><pre>countFs('Finished files are the result of years of scientific study combined with the experience of years.')\n",
        "</pre></code></td><td><pre>6\n",
        "</pre></td><td><pre style=\"color:red\">Nothing</pre></td></tr>\n",
        "        <tr><td><code><pre>countFs('Four score and seven years ago')\n",
        "</pre></code></td><td><pre>1\n",
        "</pre></td><td><pre style=\"color:red\">Nothing</pre></td></tr>\n",
        "        <tr><td><code><pre>countFs('A man, a plan, a canal - Panama!')\n",
        "</pre></code></td><td><pre>0\n",
        "</pre></td><td><pre style=\"color:red\">Nothing</pre></td></tr>\n",
        "        </table>\n",
        "        "
       ],
       "output_type": "display_data"
      }
     ],
     "prompt_number": 20
    },
    {
     "cell_type": "code",
     "collapsed": false,
     "input": [],
     "language": "python",
     "metadata": {},
     "outputs": []
    }
   ],
   "metadata": {}
  }
 ]
}