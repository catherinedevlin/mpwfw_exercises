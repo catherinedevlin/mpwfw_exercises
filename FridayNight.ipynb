{
 "metadata": {
  "name": "FridayNight"
 },
 "nbformat": 3,
 "nbformat_minor": 0,
 "worksheets": [
  {
   "cells": [
    {
     "cell_type": "code",
     "collapsed": false,
     "input": [
      "from ipython_doctester import test"
     ],
     "language": "python",
     "metadata": {},
     "outputs": [],
     "prompt_number": 3
    },
    {
     "cell_type": "markdown",
     "metadata": {},
     "source": [
      "These exercises cover material from the Midwest Python Workshop Friday Python tutorial.\n",
      "\n",
      "If you have any questions, don't hesitate to ask your neighbor or a staff member for help.  We're all here to cooperate!"
     ]
    },
    {
     "cell_type": "markdown",
     "metadata": {},
     "source": [
      "Core exercises: please complete these first\n",
      "==========================================="
     ]
    },
    {
     "cell_type": "markdown",
     "metadata": {},
     "source": [
      "happyBirthday(name)\n",
      "===================\n",
      "\n",
      "Given a string *name*, return a string of the form \"Happy Birthday <name>!\".\n",
      "\n",
      "Hints (highlight with your mouse to see them): \n",
      "\n",
      "<ul style=\"color:white\">\n",
      "<li>You can join strings together (called \"concatenation\") using '+'.</li>\n",
      "<li>Use the return keyword to return your new string.</li>\n",
      "<li>Don't forget the exclamation point! :)</li>\n",
      "</ul>\n"
     ]
    },
    {
     "cell_type": "code",
     "collapsed": false,
     "input": [
      "@test\n",
      "def happyBirthday(name):\n",
      "    '''\n",
      "    >>> happyBirthday('Jessica')\n",
      "    'Happy Birthday Jessica!'\n",
      "    >>> happyBirthday('Adam')\n",
      "    'Happy Birthday Adam!'\n",
      "    >>> happyBirthday('Liz')\n",
      "    'Happy Birthday Liz!'\n",
      "    '''\n"
     ],
     "language": "python",
     "metadata": {},
     "outputs": [
      {
       "html": [
        "\n",
        "        <p><span style=\"color:red;\">Oops!</span>  Not quite there yet...</p>\n",
        "        <table>\n",
        "          <tr><th>Tried</th><th>Expected</th><th>Got</th></tr><tr><td><code><pre>happyBirthday('Jessica')\n",
        "</pre></code></td><td><pre>'Happy Birthday Jessica!'\n",
        "</pre></td><td><pre style=\"color:red\">Nothing</pre></td></tr>\n",
        "        <tr><td><code><pre>happyBirthday('Adam')\n",
        "</pre></code></td><td><pre>'Happy Birthday Adam!'\n",
        "</pre></td><td><pre style=\"color:red\">Nothing</pre></td></tr>\n",
        "        <tr><td><code><pre>happyBirthday('Liz')\n",
        "</pre></code></td><td><pre>'Happy Birthday Liz!'\n",
        "</pre></td><td><pre style=\"color:red\">Nothing</pre></td></tr>\n",
        "        </table>\n",
        "        "
       ],
       "output_type": "display_data"
      }
     ],
     "prompt_number": 4
    },
    {
     "cell_type": "markdown",
     "metadata": {},
     "source": [
      "cube(i)\n",
      "-------\n",
      "\n",
      "given a number, return the cube of that number. \n",
      "\n",
      "Hints: \n",
      "\n",
      "<ul style=\"color:white\">\n",
      "<li>You can use '*' for multiplication. You can also use the exponent operator '**'.</li>\n",
      "<li>Don't forget to return your answer.</li>\n",
      "</ul>\n"
     ]
    },
    {
     "cell_type": "code",
     "collapsed": false,
     "input": [
      "@test\n",
      "def cube(i):\n",
      "    '''\n",
      "    >>> cube(1)\n",
      "    1\n",
      "    >>> cube(2)\n",
      "    8\n",
      "    >>> cube(3)\n",
      "    27\n",
      "    '''"
     ],
     "language": "python",
     "metadata": {},
     "outputs": [
      {
       "html": [
        "\n",
        "        <p><span style=\"color:red;\">Oops!</span>  Not quite there yet...</p>\n",
        "        <table>\n",
        "          <tr><th>Tried</th><th>Expected</th><th>Got</th></tr><tr><td><code><pre>cube(1)\n",
        "</pre></code></td><td><pre>1\n",
        "</pre></td><td><pre style=\"color:red\">Nothing</pre></td></tr>\n",
        "        <tr><td><code><pre>cube(2)\n",
        "</pre></code></td><td><pre>8\n",
        "</pre></td><td><pre style=\"color:red\">Nothing</pre></td></tr>\n",
        "        <tr><td><code><pre>cube(3)\n",
        "</pre></code></td><td><pre>27\n",
        "</pre></td><td><pre style=\"color:red\">Nothing</pre></td></tr>\n",
        "        </table>\n",
        "        "
       ],
       "output_type": "display_data"
      }
     ],
     "prompt_number": 11
    },
    {
     "cell_type": "markdown",
     "metadata": {},
     "source": [
      "tooLongForTwitter(myString)\n",
      "---------------------------\n",
      "\n",
      "Twitter messages can't be more than 140 characters! Given a string myString, return True if the string is longer that 140 characters, and return False if the string is less than or equal to 140 characters. \n",
      "\n",
      "Hints: \n",
      "    \n",
      "<ul style=\"color:white\">\n",
      "<li>Check your notes on the len() function</li>\n",
      "<li>Check your notes on <, >, <=, >=</li>\n",
      "</ul>"
     ]
    },
    {
     "cell_type": "code",
     "collapsed": false,
     "input": [
      "@test\n",
      "def tooLongForTwitter(myString):\n",
      "    '''\n",
      "    >>> tooLongForTwitter('The Analytical Engine weaves algebraic patterns, just as the Jacquard loom weaves flowers and leaves.' +\n",
      "    ... '-- Ada Lovelace, the first programmer')\n",
      "    False\n",
      "    >>> tooLongForTwitter('Four score and seven years ago our fathers brought forth on this continent a new nation, ' +\n",
      "    ... 'conceived in liberty, and dedicated to the proposition that all men are created equal.')\n",
      "    True\n",
      "    >>> tooLongForTwitter('They told me computers could only do arithmetic. -- Computer pioneer Grace Hopper')\n",
      "    False\n",
      "    '''"
     ],
     "language": "python",
     "metadata": {},
     "outputs": [
      {
       "html": [
        "\n",
        "        <p><span style=\"color:red;\">Oops!</span>  Not quite there yet...</p>\n",
        "        <table>\n",
        "          <tr><th>Tried</th><th>Expected</th><th>Got</th></tr><tr><td><code><pre>tooLongForTwitter('The Analytical Engine weaves algebraic patterns, just as the Jacquard loom weaves flowers and leaves.' +\n",
        "'-- Ada Lovelace, the first programmer')\n",
        "</pre></code></td><td><pre>False\n",
        "</pre></td><td><pre style=\"color:red\">Nothing</pre></td></tr>\n",
        "        <tr><td><code><pre>tooLongForTwitter('Four score and seven years ago our fathers brought forth on this continent a new nation, ' +\n",
        "'conceived in liberty, and dedicated to the proposition that all men are created equal.')\n",
        "</pre></code></td><td><pre>True\n",
        "</pre></td><td><pre style=\"color:red\">Nothing</pre></td></tr>\n",
        "        <tr><td><code><pre>tooLongForTwitter('They told me computers could only do arithmetic. -- Computer pioneer Grace Hopper')\n",
        "</pre></code></td><td><pre>False\n",
        "</pre></td><td><pre style=\"color:red\">Nothing</pre></td></tr>\n",
        "        </table>\n",
        "        "
       ],
       "output_type": "display_data"
      }
     ],
     "prompt_number": 22
    },
    {
     "cell_type": "code",
     "collapsed": false,
     "input": [],
     "language": "python",
     "metadata": {},
     "outputs": []
    }
   ],
   "metadata": {}
  }
 ]
}